{
  "cells": [
    {
      "cell_type": "markdown",
      "metadata": {
        "vscode": {
          "languageId": "raw"
        },
        "id": "KS-ev9cMFQhV"
      },
      "source": [
        "# OpenAI Agents SDK Single Agent - Jupyter Notebook Version\n",
        "\n",
        "This notebook demonstrates how to create and run a single OpenAI agent with web search capabilities. The agent can find AI news articles and get weather information.\n",
        "\n",
        "Author: James Gray  \n",
        "Updated: July 27, 2025"
      ]
    },
    {
      "cell_type": "markdown",
      "metadata": {
        "vscode": {
          "languageId": "raw"
        },
        "id": "gQT93r8mFQhW"
      },
      "source": [
        "## 1. Install Required Libraries\n",
        "\n",
        "**Run this cell first!** This will install all the Python packages we need."
      ]
    },
    {
      "cell_type": "code",
      "execution_count": null,
      "metadata": {
        "collapsed": true,
        "id": "rf0u2cl7FQhW"
      },
      "outputs": [],
      "source": [
        "%pip install openai python-dotenv openai-agents requests"
      ]
    },
    {
      "cell_type": "markdown",
      "metadata": {
        "vscode": {
          "languageId": "raw"
        },
        "id": "ZlUHRTQJFQhW"
      },
      "source": [
        "## 2. Import Libraries\n",
        "\n",
        "Now let's import all the libraries we need."
      ]
    },
    {
      "cell_type": "code",
      "execution_count": 2,
      "metadata": {
        "id": "qZHuGeiZFQhW"
      },
      "outputs": [],
      "source": [
        "import asyncio\n",
        "import os\n",
        "import requests\n",
        "from dotenv import load_dotenv\n",
        "from openai import OpenAI\n",
        "from agents import (\n",
        "    Agent, Runner,\n",
        "    WebSearchTool, FileSearchTool, FunctionTool, function_tool\n",
        ")"
      ]
    },
    {
      "cell_type": "markdown",
      "metadata": {
        "vscode": {
          "languageId": "raw"
        },
        "id": "YH6HiQs2FQhW"
      },
      "source": [
        "## 3. Setup Environment\n",
        "\n",
        "Load your OpenAI API key from a .env file."
      ]
    },
    {
      "cell_type": "code",
      "execution_count": 11,
      "metadata": {
        "colab": {
          "base_uri": "https://localhost:8080/"
        },
        "id": "WwH-pHTjFQhW",
        "outputId": "c084110e-d56f-4729-a9e1-dc3c3cf2c58d"
      },
      "outputs": [
        {
          "output_type": "stream",
          "name": "stdout",
          "text": [
            "OPENAI_API_KEY environment variable set: ✓ (sk-p...)\n"
          ]
        }
      ],
      "source": [
        "# Load environment variable from Colab secrets and set it using os.environ\n",
        "from google.colab import userdata\n",
        "import os\n",
        "\n",
        "# Retrieve the secret value\n",
        "api_key_value = userdata.get('OPENAI_API_KEY')\n",
        "\n",
        "# Set the environment variable using os.environ\n",
        "os.environ['OPENAI_API_KEY'] = api_key_value\n",
        "\n",
        "# Print a simpler masked version of the API key in the print statement\n",
        "if api_key_value:\n",
        "    # Show first 4 chars if key is long enough\n",
        "    masked_part = api_key_value[:4] + \"...\" if len(api_key_value) > 4 else \"Key set\"\n",
        "    print(f\"OPENAI_API_KEY environment variable set: ✓ ({masked_part})\")\n",
        "else:\n",
        "    print(\"OPENAI_API_KEY environment variable not set: ✗\")"
      ]
    },
    {
      "cell_type": "markdown",
      "metadata": {
        "vscode": {
          "languageId": "raw"
        },
        "id": "Prj7zuExFQhX"
      },
      "source": [
        "## 4. Create the Agent\n",
        "\n",
        "Create an AI agent with web search capabilities."
      ]
    },
    {
      "cell_type": "code",
      "execution_count": 12,
      "metadata": {
        "colab": {
          "base_uri": "https://localhost:8080/"
        },
        "id": "259V_io6FQhX",
        "outputId": "a0e7f3ea-c845-49d4-97f9-1019149b3a56"
      },
      "outputs": [
        {
          "output_type": "stream",
          "name": "stdout",
          "text": [
            "Agent created successfully!\n"
          ]
        }
      ],
      "source": [
        "client = OpenAI(api_key=os.environ.get(\"OPENAI_API_KEY\"))\n",
        "\n",
        "myagent = Agent(\n",
        "    name=\"My Agent\",\n",
        "    model=\"gpt-4o-mini\",\n",
        "    instructions=(\n",
        "        \"You are an all-purpose assistant. Use your tools for web search, \"\n",
        "        \"Answer concisely. Always pick the most \"\n",
        "        \"relevant information from the web search results.\"\n",
        "    ),\n",
        "    tools=[\n",
        "        WebSearchTool(),\n",
        "    ]\n",
        ")\n",
        "\n",
        "print(\"Agent created successfully!\")"
      ]
    },
    {
      "cell_type": "markdown",
      "metadata": {
        "vscode": {
          "languageId": "raw"
        },
        "id": "oPgBLnOIFQhX"
      },
      "source": [
        "## 5. Run the Agent\n",
        "\n",
        "Now let's ask the agent to do something useful!"
      ]
    },
    {
      "cell_type": "code",
      "execution_count": 13,
      "metadata": {
        "colab": {
          "base_uri": "https://localhost:8080/"
        },
        "id": "CjBAr_4dFQhX",
        "outputId": "2a855ad8-920f-4d30-edef-dfe186a57084"
      },
      "outputs": [
        {
          "output_type": "stream",
          "name": "stdout",
          "text": [
            "Running agent with goal: Find 3 AI news articles about Microsoft, OpenAI, and Google and summarize each one, then get the weather in Austin, TX today\n",
            "==================================================\n",
            "Here are three recent AI news articles involving Microsoft, OpenAI, and Google:\n",
            "\n",
            "**1. Microsoft Expands AI Talent by Hiring 24 Engineers from Google DeepMind**\n",
            "\n",
            "Microsoft has aggressively recruited 24 engineers from Google's DeepMind, including senior executives like Amar Subramanya and Adam Sadovsky. This strategic move aims to enhance Microsoft's Copilot product, which has faced challenges in matching the effectiveness of competitors like ChatGPT. The recruitment follows Microsoft's earlier decision to cut over 9,000 jobs, possibly reallocating resources toward AI development. ([windowscentral.com](https://www.windowscentral.com/artificial-intelligence/microsoft-copilot/microsoft-poaches-24-ai-stars-from-google-to-supercharge-copilot-despite-deepminds-ironclad-noncompete-clauses-and-lavish-year-long-pto?utm_source=openai))\n",
            "\n",
            "**2. OpenAI's CEO Announces Plans to Surpass 1 Million GPUs by Year's End**\n",
            "\n",
            "OpenAI CEO Sam Altman announced that the company is set to surpass 1 million GPUs online by the end of 2025, significantly exceeding the 200,000 used by competitors like xAI. This milestone underscores OpenAI's dominance in AI compute and reflects a broader strategy to scale toward Artificial General Intelligence (AGI). Altman has hinted at future goals 100 times larger, indicating a relentless pursuit of AGI. ([tomshardware.com](https://www.tomshardware.com/tech-industry/sam-altman-teases-100-million-gpu-scale-for-openai-that-could-cost-usd3-trillion-chatgpt-maker-to-cross-well-over-1-million-by-end-of-year?utm_source=openai))\n",
            "\n",
            "**3. Google's AI Investments Drive Solid Second Quarter Financial Performance**\n",
            "\n",
            "Google's deepening investment in artificial intelligence has contributed to solid financial growth for its parent company, Alphabet Inc., in the second quarter of 2025. The company reported a net profit of $28.2 billion (up 19% year-over-year) and revenue of $96.4 billion (up 14%). Google's integration of AI within its search engine has boosted user engagement and generated $54.2 billion in search-driven ad revenue, a 12% increase from the prior year. ([apnews.com](https://apnews.com/article/7afa082a178c36520dfc7a7621fe2397?utm_source=openai))\n",
            "\n",
            "**Weather in Austin, TX for July 28, 2025**\n",
            "\n",
            "## Weather for Austin, TX:\n",
            "Current Conditions: Partly sunny, 87°F (31°C)\n",
            "\n",
            "Hourly Forecast:\n",
            "* 12:00 PM: 89°F (32°C), Mostly sunny\n",
            "* 1:00 PM: 93°F (34°C), Mostly sunny\n",
            "* 2:00 PM: 95°F (35°C), Mostly sunny\n",
            "* 3:00 PM: 96°F (35°C), Mostly sunny\n",
            "* 4:00 PM: 96°F (36°C), Mostly sunny\n",
            "* 5:00 PM: 97°F (36°C), Mostly sunny\n",
            "* 6:00 PM: 96°F (36°C), Mostly sunny\n",
            "* 7:00 PM: 95°F (35°C), Sunny\n",
            "* 8:00 PM: 93°F (34°C), Mostly sunny\n",
            "* 9:00 PM: 90°F (32°C), Mostly clear\n",
            "* 10:00 PM: 88°F (31°C), Mostly clear\n",
            "* 11:00 PM: 85°F (30°C), Mostly clear\n",
            " \n"
          ]
        }
      ],
      "source": [
        "goal = (\n",
        "    \"Find 3 AI news articles about Microsoft, OpenAI, and Google and summarize each one, then get \"\n",
        "    \"the weather in Austin, TX today\"\n",
        ")\n",
        "\n",
        "print(f\"Running agent with goal: {goal}\")\n",
        "print(\"=\" * 50)\n",
        "\n",
        "result = await Runner.run(myagent, input=goal)\n",
        "print(result.final_output)"
      ]
    }
  ],
  "metadata": {
    "kernelspec": {
      "display_name": ".venv",
      "language": "python",
      "name": "python3"
    },
    "language_info": {
      "codemirror_mode": {
        "name": "ipython",
        "version": 3
      },
      "file_extension": ".py",
      "mimetype": "text/x-python",
      "name": "python",
      "nbconvert_exporter": "python",
      "pygments_lexer": "ipython3",
      "version": "3.11.8"
    },
    "colab": {
      "provenance": []
    }
  },
  "nbformat": 4,
  "nbformat_minor": 0
}