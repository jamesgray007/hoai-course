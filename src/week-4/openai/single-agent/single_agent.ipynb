{
  "cells": [
    {
      "cell_type": "markdown",
      "metadata": {
        "vscode": {
          "languageId": "raw"
        }
      },
      "source": [
        "# OpenAI Single Agent - Jupyter Notebook Version\n",
        "\n",
        "This notebook demonstrates how to create and run a single OpenAI agent with web search capabilities. The agent can find AI news articles and get weather information.\n",
        "\n",
        "Author: James Gray"
      ]
    },
    {
      "cell_type": "markdown",
      "metadata": {
        "vscode": {
          "languageId": "raw"
        }
      },
      "source": [
        "## 1. Install Required Libraries\n",
        "\n",
        "**Run this cell first!** This will install all the Python packages we need."
      ]
    },
    {
      "cell_type": "code",
      "execution_count": 1,
      "metadata": {},
      "outputs": [
        {
          "name": "stdout",
          "output_type": "stream",
          "text": [
            "Requirement already satisfied: openai in /Users/jamesgray/My Drive (james@jamesgray.ai) (1)/Code/hoai-course/.venv/lib/python3.11/site-packages (1.97.1)\n",
            "Requirement already satisfied: python-dotenv in /Users/jamesgray/My Drive (james@jamesgray.ai) (1)/Code/hoai-course/.venv/lib/python3.11/site-packages (1.1.1)\n",
            "Requirement already satisfied: requests in /Users/jamesgray/My Drive (james@jamesgray.ai) (1)/Code/hoai-course/.venv/lib/python3.11/site-packages (2.32.4)\n",
            "Requirement already satisfied: anyio<5,>=3.5.0 in /Users/jamesgray/My Drive (james@jamesgray.ai) (1)/Code/hoai-course/.venv/lib/python3.11/site-packages (from openai) (4.9.0)\n",
            "Requirement already satisfied: distro<2,>=1.7.0 in /Users/jamesgray/My Drive (james@jamesgray.ai) (1)/Code/hoai-course/.venv/lib/python3.11/site-packages (from openai) (1.9.0)\n",
            "Requirement already satisfied: httpx<1,>=0.23.0 in /Users/jamesgray/My Drive (james@jamesgray.ai) (1)/Code/hoai-course/.venv/lib/python3.11/site-packages (from openai) (0.28.1)\n",
            "Requirement already satisfied: jiter<1,>=0.4.0 in /Users/jamesgray/My Drive (james@jamesgray.ai) (1)/Code/hoai-course/.venv/lib/python3.11/site-packages (from openai) (0.10.0)\n",
            "Requirement already satisfied: pydantic<3,>=1.9.0 in /Users/jamesgray/My Drive (james@jamesgray.ai) (1)/Code/hoai-course/.venv/lib/python3.11/site-packages (from openai) (2.11.7)\n",
            "Requirement already satisfied: sniffio in /Users/jamesgray/My Drive (james@jamesgray.ai) (1)/Code/hoai-course/.venv/lib/python3.11/site-packages (from openai) (1.3.1)\n",
            "Requirement already satisfied: tqdm>4 in /Users/jamesgray/My Drive (james@jamesgray.ai) (1)/Code/hoai-course/.venv/lib/python3.11/site-packages (from openai) (4.67.1)\n",
            "Requirement already satisfied: typing-extensions<5,>=4.11 in /Users/jamesgray/My Drive (james@jamesgray.ai) (1)/Code/hoai-course/.venv/lib/python3.11/site-packages (from openai) (4.14.0)\n",
            "Requirement already satisfied: idna>=2.8 in /Users/jamesgray/My Drive (james@jamesgray.ai) (1)/Code/hoai-course/.venv/lib/python3.11/site-packages (from anyio<5,>=3.5.0->openai) (3.10)\n",
            "Requirement already satisfied: certifi in /Users/jamesgray/My Drive (james@jamesgray.ai) (1)/Code/hoai-course/.venv/lib/python3.11/site-packages (from httpx<1,>=0.23.0->openai) (2025.6.15)\n",
            "Requirement already satisfied: httpcore==1.* in /Users/jamesgray/My Drive (james@jamesgray.ai) (1)/Code/hoai-course/.venv/lib/python3.11/site-packages (from httpx<1,>=0.23.0->openai) (1.0.9)\n",
            "Requirement already satisfied: h11>=0.16 in /Users/jamesgray/My Drive (james@jamesgray.ai) (1)/Code/hoai-course/.venv/lib/python3.11/site-packages (from httpcore==1.*->httpx<1,>=0.23.0->openai) (0.16.0)\n",
            "Requirement already satisfied: annotated-types>=0.6.0 in /Users/jamesgray/My Drive (james@jamesgray.ai) (1)/Code/hoai-course/.venv/lib/python3.11/site-packages (from pydantic<3,>=1.9.0->openai) (0.7.0)\n",
            "Requirement already satisfied: pydantic-core==2.33.2 in /Users/jamesgray/My Drive (james@jamesgray.ai) (1)/Code/hoai-course/.venv/lib/python3.11/site-packages (from pydantic<3,>=1.9.0->openai) (2.33.2)\n",
            "Requirement already satisfied: typing-inspection>=0.4.0 in /Users/jamesgray/My Drive (james@jamesgray.ai) (1)/Code/hoai-course/.venv/lib/python3.11/site-packages (from pydantic<3,>=1.9.0->openai) (0.4.1)\n",
            "Requirement already satisfied: charset_normalizer<4,>=2 in /Users/jamesgray/My Drive (james@jamesgray.ai) (1)/Code/hoai-course/.venv/lib/python3.11/site-packages (from requests) (3.4.2)\n",
            "Requirement already satisfied: urllib3<3,>=1.21.1 in /Users/jamesgray/My Drive (james@jamesgray.ai) (1)/Code/hoai-course/.venv/lib/python3.11/site-packages (from requests) (2.5.0)\n",
            "Note: you may need to restart the kernel to use updated packages.\n"
          ]
        }
      ],
      "source": [
        "%pip install openai python-dotenv requests"
      ]
    },
    {
      "cell_type": "markdown",
      "metadata": {
        "vscode": {
          "languageId": "raw"
        }
      },
      "source": [
        "## 2. Import Libraries\n",
        "\n",
        "Now let's import all the libraries we need."
      ]
    },
    {
      "cell_type": "code",
      "execution_count": 2,
      "metadata": {},
      "outputs": [],
      "source": [
        "import asyncio\n",
        "import os\n",
        "import requests\n",
        "from dotenv import load_dotenv\n",
        "from openai import OpenAI\n",
        "from agents import (\n",
        "    Agent, Runner,\n",
        "    WebSearchTool, FileSearchTool, FunctionTool, function_tool\n",
        ")"
      ]
    },
    {
      "cell_type": "markdown",
      "metadata": {
        "vscode": {
          "languageId": "raw"
        }
      },
      "source": [
        "## 3. Setup Environment\n",
        "\n",
        "Load your OpenAI API key from a .env file."
      ]
    },
    {
      "cell_type": "code",
      "execution_count": 3,
      "metadata": {},
      "outputs": [
        {
          "name": "stdout",
          "output_type": "stream",
          "text": [
            "API Key loaded: ✓\n"
          ]
        }
      ],
      "source": [
        "# Load environment variables from .env file\n",
        "load_dotenv()\n",
        "\n",
        "api_key = os.getenv(\"OPENAI_API_KEY\")\n",
        "print(f\"API Key loaded: {'✓' if api_key else '✗'}\")"
      ]
    },
    {
      "cell_type": "markdown",
      "metadata": {
        "vscode": {
          "languageId": "raw"
        }
      },
      "source": [
        "## 4. Create the Agent\n",
        "\n",
        "Create an AI agent with web search capabilities."
      ]
    },
    {
      "cell_type": "code",
      "execution_count": 4,
      "metadata": {},
      "outputs": [
        {
          "name": "stdout",
          "output_type": "stream",
          "text": [
            "Agent created successfully!\n"
          ]
        }
      ],
      "source": [
        "myagent = Agent(\n",
        "    name=\"My Agent\",\n",
        "    model=\"gpt-4o-mini\",\n",
        "    instructions=(\n",
        "        \"You are an all-purpose assistant. Use your tools for web search, \"\n",
        "        \"Answer concisely. Always pick the most \"\n",
        "        \"relevant information from the web search results.\"\n",
        "    ),\n",
        "    tools=[\n",
        "        WebSearchTool(),\n",
        "    ]\n",
        ")\n",
        "\n",
        "print(\"Agent created successfully!\")"
      ]
    },
    {
      "cell_type": "markdown",
      "metadata": {
        "vscode": {
          "languageId": "raw"
        }
      },
      "source": [
        "## 5. Run the Agent\n",
        "\n",
        "Now let's ask the agent to do something useful!"
      ]
    },
    {
      "cell_type": "code",
      "execution_count": 5,
      "metadata": {},
      "outputs": [
        {
          "name": "stdout",
          "output_type": "stream",
          "text": [
            "Running agent with goal: Find 3 AI news articles about Microsoft, OpenAI, and Google and summarize each one, then get the weather in Austin, TX today\n",
            "==================================================\n",
            "Here are three recent AI news articles involving Microsoft, OpenAI, and Google:\n",
            "\n",
            "**1. Microsoft Expands AI Talent Pool by Hiring 24 Engineers from Google DeepMind**\n",
            "\n",
            "Microsoft has aggressively recruited 24 engineers from Google's DeepMind, including senior executives like Amar Subramanya and Adam Sadovsky. This strategic move aims to enhance Microsoft's Copilot product, which has faced challenges in matching the effectiveness of competitors like ChatGPT. The recruitment follows Microsoft's earlier decision to cut over 9,000 jobs, possibly reallocating resources toward AI development. ([windowscentral.com](https://www.windowscentral.com/artificial-intelligence/microsoft-copilot/microsoft-poaches-24-ai-stars-from-google-to-supercharge-copilot-despite-deepminds-ironclad-noncompete-clauses-and-lavish-year-long-pto?utm_source=openai))\n",
            "\n",
            "**2. OpenAI's Rapid Expansion in AI Infrastructure**\n",
            "\n",
            "OpenAI CEO Sam Altman announced plans to surpass 1 million GPUs by the end of 2025, significantly outpacing competitors like xAI, which uses 200,000 GPUs. This expansion underscores OpenAI's commitment to scaling toward Artificial General Intelligence (AGI). The rapid growth has been driven in part by shortages of AI hardware like Nvidia's H100 chips, which previously delayed model rollouts. ([tomshardware.com](https://www.tomshardware.com/tech-industry/sam-altman-teases-100-million-gpu-scale-for-openai-that-could-cost-usd3-trillion-chatgpt-maker-to-cross-well-over-1-million-by-end-of-year?utm_source=openai))\n",
            "\n",
            "**3. Google's AI Integration Boosts Financial Performance**\n",
            "\n",
            "Google's deepening investment in AI has contributed to solid financial growth for its parent company, Alphabet Inc., as reflected in its second-quarter performance from April to June 2025. The company reported a net profit of $28.2 billion (up 19% year-over-year) and revenue of $96.4 billion (up 14%), surpassing analysts’ expectations. Google's integration of AI within its search engine—through features like AI Overviews and the new AI Mode—has boosted user engagement and generated $54.2 billion in search-driven ad revenue, a 12% increase from the prior year. ([apnews.com](https://apnews.com/article/7afa082a178c36520dfc7a7621fe2397?utm_source=openai))\n",
            "\n",
            "**Weather Forecast for Austin, TX on July 28, 2025**\n",
            "\n",
            "## Weather for Austin, TX:\n",
            "Current Conditions: Partly sunny, 91°F (33°C)\n",
            "\n",
            "Hourly Forecast:\n",
            "* 12:00 AM: 80°F (27°C), Mostly clear\n",
            "* 1:00 AM: 80°F (27°C), Mostly clear\n",
            "* 2:00 AM: 79°F (26°C), Intermittent clouds\n",
            "* 3:00 AM: 78°F (26°C), Intermittent clouds\n",
            "* 4:00 AM: 77°F (25°C), Intermittent clouds\n",
            "* 5:00 AM: 77°F (25°C), Intermittent clouds\n",
            "* 6:00 AM: 75°F (24°C), Intermittent clouds\n",
            "* 7:00 AM: 76°F (24°C), Intermittent clouds\n",
            "* 8:00 AM: 77°F (25°C), Partly sunny\n",
            "* 9:00 AM: 80°F (27°C), Mostly sunny\n",
            "* 10:00 AM: 83°F (29°C), Mostly sunny\n",
            "* 11:00 AM: 87°F (30°C), Mostly sunny\n",
            "* 12:00 PM: 89°F (32°C), Intermittent clouds\n",
            "* 1:00 PM: 92°F (34°C), Mostly sunny\n",
            "* 2:00 PM: 94°F (34°C), Mostly sunny\n",
            "* 3:00 PM: 95°F (35°C), Mostly sunny\n",
            "* 4:00 PM: 96°F (35°C), Mostly sunny\n",
            "* 5:00 PM: 97°F (36°C), Mostly sunny\n",
            "* 6:00 PM: 96°F (35°C), Mostly sunny\n",
            "* 7:00 PM: 94°F (35°C), Mostly sunny\n",
            "* 8:00 PM: 92°F (33°C), Mostly sunny\n",
            "* 9:00 PM: 90°F (32°C), Mostly clear\n",
            "* 10:00 PM: 87°F (30°C), Mostly clear\n",
            "* 11:00 PM: 84°F (29°C), Mostly clear\n",
            " \n"
          ]
        }
      ],
      "source": [
        "goal = (\n",
        "    \"Find 3 AI news articles about Microsoft, OpenAI, and Google and summarize each one, then get \"\n",
        "    \"the weather in Austin, TX today\"\n",
        ")\n",
        "\n",
        "print(f\"Running agent with goal: {goal}\")\n",
        "print(\"=\" * 50)\n",
        "\n",
        "result = await Runner.run(myagent, input=goal)\n",
        "print(result.final_output)\n"
      ]
    },
    {
      "cell_type": "raw",
      "metadata": {
        "vscode": {
          "languageId": "raw"
        }
      },
      "source": [
        "## 1. Import Required Libraries\n",
        "\n",
        "First, let's import all the necessary libraries and modules."
      ]
    },
    {
      "cell_type": "code",
      "execution_count": 6,
      "metadata": {},
      "outputs": [],
      "source": [
        "import asyncio\n",
        "import os\n",
        "import requests\n",
        "from dotenv import load_dotenv\n",
        "from openai import OpenAI\n",
        "from agents import (\n",
        "    Agent, Runner,\n",
        "    WebSearchTool, FileSearchTool, FunctionTool, function_tool\n",
        ")"
      ]
    },
    {
      "cell_type": "raw",
      "metadata": {
        "vscode": {
          "languageId": "raw"
        }
      },
      "source": [
        "## 2. Install Required Libraries\n",
        "\n",
        "Run this cell first to install the necessary Python packages.\n"
      ]
    },
    {
      "cell_type": "code",
      "execution_count": 7,
      "metadata": {},
      "outputs": [
        {
          "name": "stdout",
          "output_type": "stream",
          "text": [
            "Requirement already satisfied: openai in /Users/jamesgray/My Drive (james@jamesgray.ai) (1)/Code/hoai-course/.venv/lib/python3.11/site-packages (1.97.1)\n",
            "Requirement already satisfied: python-dotenv in /Users/jamesgray/My Drive (james@jamesgray.ai) (1)/Code/hoai-course/.venv/lib/python3.11/site-packages (1.1.1)\n",
            "Requirement already satisfied: requests in /Users/jamesgray/My Drive (james@jamesgray.ai) (1)/Code/hoai-course/.venv/lib/python3.11/site-packages (2.32.4)\n",
            "Requirement already satisfied: anyio<5,>=3.5.0 in /Users/jamesgray/My Drive (james@jamesgray.ai) (1)/Code/hoai-course/.venv/lib/python3.11/site-packages (from openai) (4.9.0)\n",
            "Requirement already satisfied: distro<2,>=1.7.0 in /Users/jamesgray/My Drive (james@jamesgray.ai) (1)/Code/hoai-course/.venv/lib/python3.11/site-packages (from openai) (1.9.0)\n",
            "Requirement already satisfied: httpx<1,>=0.23.0 in /Users/jamesgray/My Drive (james@jamesgray.ai) (1)/Code/hoai-course/.venv/lib/python3.11/site-packages (from openai) (0.28.1)\n",
            "Requirement already satisfied: jiter<1,>=0.4.0 in /Users/jamesgray/My Drive (james@jamesgray.ai) (1)/Code/hoai-course/.venv/lib/python3.11/site-packages (from openai) (0.10.0)\n",
            "Requirement already satisfied: pydantic<3,>=1.9.0 in /Users/jamesgray/My Drive (james@jamesgray.ai) (1)/Code/hoai-course/.venv/lib/python3.11/site-packages (from openai) (2.11.7)\n",
            "Requirement already satisfied: sniffio in /Users/jamesgray/My Drive (james@jamesgray.ai) (1)/Code/hoai-course/.venv/lib/python3.11/site-packages (from openai) (1.3.1)\n",
            "Requirement already satisfied: tqdm>4 in /Users/jamesgray/My Drive (james@jamesgray.ai) (1)/Code/hoai-course/.venv/lib/python3.11/site-packages (from openai) (4.67.1)\n",
            "Requirement already satisfied: typing-extensions<5,>=4.11 in /Users/jamesgray/My Drive (james@jamesgray.ai) (1)/Code/hoai-course/.venv/lib/python3.11/site-packages (from openai) (4.14.0)\n",
            "Requirement already satisfied: idna>=2.8 in /Users/jamesgray/My Drive (james@jamesgray.ai) (1)/Code/hoai-course/.venv/lib/python3.11/site-packages (from anyio<5,>=3.5.0->openai) (3.10)\n",
            "Requirement already satisfied: certifi in /Users/jamesgray/My Drive (james@jamesgray.ai) (1)/Code/hoai-course/.venv/lib/python3.11/site-packages (from httpx<1,>=0.23.0->openai) (2025.6.15)\n",
            "Requirement already satisfied: httpcore==1.* in /Users/jamesgray/My Drive (james@jamesgray.ai) (1)/Code/hoai-course/.venv/lib/python3.11/site-packages (from httpx<1,>=0.23.0->openai) (1.0.9)\n",
            "Requirement already satisfied: h11>=0.16 in /Users/jamesgray/My Drive (james@jamesgray.ai) (1)/Code/hoai-course/.venv/lib/python3.11/site-packages (from httpcore==1.*->httpx<1,>=0.23.0->openai) (0.16.0)\n",
            "Requirement already satisfied: annotated-types>=0.6.0 in /Users/jamesgray/My Drive (james@jamesgray.ai) (1)/Code/hoai-course/.venv/lib/python3.11/site-packages (from pydantic<3,>=1.9.0->openai) (0.7.0)\n",
            "Requirement already satisfied: pydantic-core==2.33.2 in /Users/jamesgray/My Drive (james@jamesgray.ai) (1)/Code/hoai-course/.venv/lib/python3.11/site-packages (from pydantic<3,>=1.9.0->openai) (2.33.2)\n",
            "Requirement already satisfied: typing-inspection>=0.4.0 in /Users/jamesgray/My Drive (james@jamesgray.ai) (1)/Code/hoai-course/.venv/lib/python3.11/site-packages (from pydantic<3,>=1.9.0->openai) (0.4.1)\n",
            "Requirement already satisfied: charset_normalizer<4,>=2 in /Users/jamesgray/My Drive (james@jamesgray.ai) (1)/Code/hoai-course/.venv/lib/python3.11/site-packages (from requests) (3.4.2)\n",
            "Requirement already satisfied: urllib3<3,>=1.21.1 in /Users/jamesgray/My Drive (james@jamesgray.ai) (1)/Code/hoai-course/.venv/lib/python3.11/site-packages (from requests) (2.5.0)\n",
            "Note: you may need to restart the kernel to use updated packages.\n"
          ]
        }
      ],
      "source": [
        "# Install required packages\n",
        "%pip install openai python-dotenv requests"
      ]
    },
    {
      "cell_type": "raw",
      "metadata": {
        "vscode": {
          "languageId": "raw"
        }
      },
      "source": [
        "## 3. Environment Setup\n",
        "\n",
        "Load environment variables to access the OpenAI API key."
      ]
    },
    {
      "cell_type": "code",
      "execution_count": 8,
      "metadata": {},
      "outputs": [
        {
          "name": "stdout",
          "output_type": "stream",
          "text": [
            "API Key loaded: ✓\n"
          ]
        }
      ],
      "source": [
        "# Load environment variables from .env file\n",
        "load_dotenv()\n",
        "\n",
        "api_key = os.getenv(\"OPENAI_API_KEY\")\n",
        "print(f\"API Key loaded: {'✓' if api_key else '✗'}\")"
      ]
    },
    {
      "cell_type": "raw",
      "metadata": {
        "vscode": {
          "languageId": "raw"
        }
      },
      "source": [
        "## 4. Agent Configuration\n",
        "\n",
        "Create an agent with web search capabilities. The agent is configured with:\n",
        "- **Model**: GPT-4o-mini for efficient processing\n",
        "- **Instructions**: Clear guidelines for concise responses and relevant information extraction\n",
        "- **Tools**: Web search tool for finding current information"
      ]
    },
    {
      "cell_type": "code",
      "execution_count": 9,
      "metadata": {},
      "outputs": [
        {
          "name": "stdout",
          "output_type": "stream",
          "text": [
            "Agent created successfully!\n"
          ]
        }
      ],
      "source": [
        "myagent = Agent(\n",
        "    name=\"My Agent\",\n",
        "    model=\"gpt-4.1-mini\",\n",
        "    instructions=(\n",
        "        \"You are an all-purpose assistant. Use your tools for web search, \"\n",
        "        \" Answer concisely. Always pick the most \"\n",
        "        \"relevant information from the web search results.\"\n",
        "    ),\n",
        "    tools=[\n",
        "        WebSearchTool(),\n",
        "    ]\n",
        ")\n",
        "\n",
        "print(\"Agent created successfully!\")"
      ]
    },
    {
      "cell_type": "raw",
      "metadata": {
        "vscode": {
          "languageId": "raw"
        }
      },
      "source": [
        "## 5. Run the Agent\n",
        "\n",
        "Now let's run the agent with a specific goal. The agent will:\n",
        "1. Find 3 AI news articles about Microsoft, OpenAI, and Google\n",
        "2. Summarize each article\n",
        "3. Get the current weather in Austin, TX"
      ]
    },
    {
      "cell_type": "code",
      "execution_count": 10,
      "metadata": {},
      "outputs": [
        {
          "name": "stdout",
          "output_type": "stream",
          "text": [
            "Running agent with goal: Find 3 AI news articles about Microsoft, OpenAI, and Google and summarize each one, then get the weather in Austin, TX today\n",
            "==================================================\n",
            "Here are three recent AI news articles involving Microsoft, OpenAI, and Google:\n",
            "\n",
            "**1. Microsoft Expands AI Talent Pool by Hiring 24 Engineers from Google DeepMind**\n",
            "\n",
            "Microsoft has aggressively recruited 24 engineers from Google's DeepMind, including senior executives like Amar Subramanya and Adam Sadovsky. This strategic move aims to enhance Microsoft's Copilot product, which has faced challenges in matching the effectiveness of competitors like ChatGPT. The recruitment follows Microsoft's earlier decision to cut over 9,000 jobs, possibly reallocating resources toward AI development. ([windowscentral.com](https://www.windowscentral.com/artificial-intelligence/microsoft-copilot/microsoft-poaches-24-ai-stars-from-google-to-supercharge-copilot-despite-deepminds-ironclad-noncompete-clauses-and-lavish-year-long-pto?utm_source=openai))\n",
            "\n",
            "**2. OpenAI's Rapid Expansion in AI Infrastructure**\n",
            "\n",
            "OpenAI CEO Sam Altman announced that the company is set to surpass 1 million GPUs online by the end of 2025, significantly exceeding the 200,000 used by competitors like xAI. This expansion underscores OpenAI's dominance in AI computing and its commitment to scaling toward Artificial General Intelligence (AGI). The rapid growth has been driven in part by shortages of AI hardware like Nvidia's H100 chips, which previously delayed model rollouts. ([tomshardware.com](https://www.tomshardware.com/tech-industry/sam-altman-teases-100-million-gpu-scale-for-openai-that-could-cost-usd3-trillion-chatgpt-maker-to-cross-well-over-1-million-by-end-of-year?utm_source=openai))\n",
            "\n",
            "**3. Google's AI Overviews Feature Criticized for Impact on Web Browsing Behavior**\n",
            "\n",
            "Google's AI Overviews feature, launched over a year ago, delivers short, AI-generated summaries culled from websites to streamline search results. However, studies indicate that users interacting with these summaries are significantly less likely to click through to source websites—only 1% do so—raising concerns over web traffic loss and reduced exploration of broader information. Despite over 2 billion monthly users, the feature has faced criticism for generating misleading or nonsensical information. ([windowscentral.com](https://www.windowscentral.com/artificial-intelligence/google-is-using-ai-overviews-in-search-to-nuke-the-web?utm_source=openai))\n",
            "\n",
            "**Weather in Austin, TX for Sunday, July 27, 2025**\n",
            "\n",
            "## Weather for Austin, TX:\n",
            "Current Conditions: Partly sunny, 91°F (33°C)\n",
            "\n",
            "Hourly Forecast:\n",
            "* 6:00 PM: 93°F (34°C), Thunderstorms\n",
            "* 7:00 PM: 90°F (32°C), Thunderstorms\n",
            "* 8:00 PM: 87°F (31°C), Mostly sunny\n",
            "* 9:00 PM: 85°F (30°C), Mostly clear\n",
            "* 10:00 PM: 82°F (28°C), Mostly clear\n",
            "* 11:00 PM: 81°F (27°C), Mostly clear\n",
            "* 12:00 AM: 80°F (27°C), Mostly clear\n",
            "* 1:00 AM: 80°F (27°C), Mostly clear\n",
            "* 2:00 AM: 79°F (26°C), Intermittent clouds\n",
            "* 3:00 AM: 78°F (26°C), Intermittent clouds\n",
            "* 4:00 AM: 77°F (25°C), Intermittent clouds\n",
            "* 5:00 AM: 77°F (25°C), Intermittent clouds\n",
            " \n"
          ]
        }
      ],
      "source": [
        "goal = (\n",
        "    \"Find 3 AI news articles about Microsoft, OpenAI, and Google and summarize each one, then get \"\n",
        "    \"the weather in Austin, TX today\"\n",
        ")\n",
        "\n",
        "print(f\"Running agent with goal: {goal}\")\n",
        "print(\"=\" * 50)\n",
        "\n",
        "result = await Runner.run(myagent, input=goal)\n",
        "print(result.final_output)"
      ]
    },
    {
      "cell_type": "raw",
      "metadata": {
        "vscode": {
          "languageId": "raw"
        }
      },
      "source": [
        "## 6. Notes and Customization\n",
        "\n",
        "### Key Differences from Script Version:\n",
        "- **Async Handling**: In Jupyter notebooks, you can use `await` directly without `asyncio.run()`\n",
        "- **Interactive Execution**: Each cell can be run independently for testing and debugging\n",
        "- **Visual Feedback**: Added print statements to confirm successful setup\n",
        "\n",
        "### Customization Options:\n",
        "- **Change the goal**: Modify the `goal` variable to ask different questions\n",
        "- **Add more tools**: Include `FileSearchTool()` or `FunctionTool()` in the tools list\n",
        "- **Adjust instructions**: Modify the agent's instructions for different behavior\n",
        "- **Try different models**: Replace `\"gpt-4o-mini\"` with `\"gpt-4o\"` for more advanced capabilities\n",
        "\n",
        "### Prerequisites:\n",
        "- Ensure you have a `.env` file with your `OPENAI_API_KEY`\n",
        "- Run the installation cell above to install required packages\n",
        "- Make sure the `agents` module is available in your Python path\n"
      ]
    }
  ],
  "metadata": {
    "kernelspec": {
      "display_name": ".venv",
      "language": "python",
      "name": "python3"
    },
    "language_info": {
      "codemirror_mode": {
        "name": "ipython",
        "version": 3
      },
      "file_extension": ".py",
      "mimetype": "text/x-python",
      "name": "python",
      "nbconvert_exporter": "python",
      "pygments_lexer": "ipython3",
      "version": "3.11.8"
    }
  },
  "nbformat": 4,
  "nbformat_minor": 2
}
