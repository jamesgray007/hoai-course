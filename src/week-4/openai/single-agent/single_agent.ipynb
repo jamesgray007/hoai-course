{
  "cells": [
    {
      "cell_type": "raw",
      "metadata": {
        "vscode": {
          "languageId": "raw"
        }
      },
      "source": [
        "# OpenAI Single Agent - Jupyter Notebook Version\n",
        "\n",
        "This notebook demonstrates how to create and run a single OpenAI agent with web search capabilities. The agent can find AI news articles and get weather information.\n",
        "\n",
        "Author: James Gray\n"
      ]
    },
    {
      "cell_type": "raw",
      "metadata": {
        "vscode": {
          "languageId": "raw"
        }
      },
      "source": [
        "## 1. Import Required Libraries\n",
        "\n",
        "First, let's import all the necessary libraries and modules.\n"
      ]
    },
    {
      "cell_type": "code",
      "execution_count": 1,
      "metadata": {},
      "outputs": [],
      "source": [
        "import asyncio\n",
        "import os\n",
        "import requests\n",
        "from dotenv import load_dotenv\n",
        "from openai import OpenAI\n",
        "from agents import (\n",
        "    Agent, Runner,\n",
        "    WebSearchTool, FileSearchTool, FunctionTool, function_tool\n",
        ")\n"
      ]
    },
    {
      "cell_type": "raw",
      "metadata": {
        "vscode": {
          "languageId": "raw"
        }
      },
      "source": [
        "## 2. Environment Setup\n",
        "\n",
        "Load environment variables to access the OpenAI API key.\n"
      ]
    },
    {
      "cell_type": "code",
      "execution_count": 2,
      "metadata": {},
      "outputs": [
        {
          "name": "stdout",
          "output_type": "stream",
          "text": [
            "API Key loaded: ✓\n"
          ]
        }
      ],
      "source": [
        "# Load environment variables from .env file\n",
        "load_dotenv()\n",
        "\n",
        "api_key = os.getenv(\"OPENAI_API_KEY\")\n",
        "print(f\"API Key loaded: {'✓' if api_key else '✗'}\")\n"
      ]
    },
    {
      "cell_type": "raw",
      "metadata": {
        "vscode": {
          "languageId": "raw"
        }
      },
      "source": [
        "## 3. Agent Configuration\n",
        "\n",
        "Create an agent with web search capabilities. The agent is configured with:\n",
        "- **Model**: GPT-4o-mini for efficient processing\n",
        "- **Instructions**: Clear guidelines for concise responses and relevant information extraction\n",
        "- **Tools**: Web search tool for finding current information\n"
      ]
    },
    {
      "cell_type": "code",
      "execution_count": null,
      "metadata": {},
      "outputs": [
        {
          "name": "stdout",
          "output_type": "stream",
          "text": [
            "Agent created successfully!\n"
          ]
        }
      ],
      "source": [
        "myagent = Agent(\n",
        "    name=\"My Agent\",\n",
        "    model=\"gpt-4.1-mini\",\n",
        "    instructions=(\n",
        "        \"You are an all-purpose assistant. Use your tools for web search, \"\n",
        "        \" Answer concisely. Always pick the most \"\n",
        "        \"relevant information from the web search results.\"\n",
        "    ),\n",
        "    tools=[\n",
        "        WebSearchTool(),\n",
        "    ]\n",
        ")\n",
        "\n",
        "print(\"Agent created successfully!\")\n"
      ]
    },
    {
      "cell_type": "raw",
      "metadata": {
        "vscode": {
          "languageId": "raw"
        }
      },
      "source": [
        "## 4. Run the Agent\n",
        "\n",
        "Now let's run the agent with a specific goal. The agent will:\n",
        "1. Find 3 AI news articles about Microsoft, OpenAI, and Google\n",
        "2. Summarize each article\n",
        "3. Get the current weather in Austin, TX\n"
      ]
    },
    {
      "cell_type": "code",
      "execution_count": 4,
      "metadata": {},
      "outputs": [
        {
          "name": "stdout",
          "output_type": "stream",
          "text": [
            "Running agent with goal: Find 3 AI news articles about Microsoft, OpenAI, and Google and summarize each one, then get the weather in Austin, TX today\n",
            "==================================================\n",
            "Here are three recent AI news articles involving Microsoft, OpenAI, and Google:\n",
            "\n",
            "**1. Microsoft's New AI Model Competes with Google and OpenAI**\n",
            "\n",
            "Microsoft is developing an in-house AI language model, internally referred to as MAI-1, to rival models from Google and OpenAI. The project is overseen by Mustafa Suleyman, a former Google DeepMind co-founder. The model's specific applications are yet to be determined, with a potential preview at Microsoft's upcoming Build developer conference. ([khaleejtimes.com](https://www.khaleejtimes.com/business/tech/microsoft-readies-new-ai-model-to-compete-with-google-openai?utm_source=openai))\n",
            "\n",
            "**2. OpenAI Integrates AI Tools into Educational Platform Canvas**\n",
            "\n",
            "OpenAI has partnered with Instructure to incorporate its AI tools into Canvas, a widely used educational platform. This integration enables educators to create custom AI chatbots for tasks such as instruction, grading, and assessing student progress. The move reflects a broader trend of AI companies aiming to establish early user loyalty in the education sector. ([axios.com](https://www.axios.com/2025/07/23/openai-chatgpt-schools-canvas-instructure?utm_source=openai))\n",
            "\n",
            "**3. Google's AI Model Achieves Milestone in Mathematical Reasoning**\n",
            "\n",
            "Google DeepMind's Gemini Pro and OpenAI's O1 series models have reached gold-medal status at the International Mathematical Olympiad, marking a significant advancement in machine reasoning. These models successfully tackled complex problems requiring multi-step, creative proofs, demonstrating AI's potential beyond pattern recognition. ([reuters.com](https://www.reuters.com/technology/ai-intelligencer-how-ai-won-math-gold-2025-07-24/?utm_source=openai))\n",
            "\n",
            "**Weather in Austin, TX for July 24, 2025**\n",
            "\n",
            "## Weather for Austin, TX:\n",
            "Current Conditions: Partly sunny, 81°F (27°C)\n",
            "\n",
            "Hourly Forecast:\n",
            "* 10:00 AM: 85°F (30°C), Mostly sunny\n",
            "* 11:00 AM: 89°F (31°C), Mostly sunny\n",
            "* 12:00 PM: 92°F (33°C), Sunny\n",
            "* 1:00 PM: 95°F (35°C), Sunny\n",
            "* 2:00 PM: 97°F (36°C), Sunny\n",
            "* 3:00 PM: 99°F (37°C), Sunny\n",
            "* 4:00 PM: 100°F (38°C), Sunny\n",
            "* 5:00 PM: 100°F (38°C), Sunny\n",
            "* 6:00 PM: 99°F (37°C), Sunny\n",
            "* 7:00 PM: 98°F (36°C), Sunny\n",
            "* 8:00 PM: 95°F (35°C), Mostly sunny\n",
            "* 9:00 PM: 92°F (33°C), Mostly clear\n",
            "* 10:00 PM: 88°F (31°C), Mostly clear\n",
            "* 11:00 PM: 85°F (30°C), Mostly clear\n",
            " \n"
          ]
        }
      ],
      "source": [
        "goal = (\n",
        "    \"Find 3 AI news articles about Microsoft, OpenAI, and Google and summarize each one, then get \"\n",
        "    \"the weather in Austin, TX today\"\n",
        ")\n",
        "\n",
        "print(f\"Running agent with goal: {goal}\")\n",
        "print(\"=\" * 50)\n",
        "\n",
        "result = await Runner.run(myagent, input=goal)\n",
        "print(result.final_output)\n"
      ]
    },
    {
      "cell_type": "raw",
      "metadata": {
        "vscode": {
          "languageId": "raw"
        }
      },
      "source": [
        "## 5. Notes and Customization\n",
        "\n",
        "### Key Differences from Script Version:\n",
        "- **Async Handling**: In Jupyter notebooks, you can use `await` directly without `asyncio.run()`\n",
        "- **Interactive Execution**: Each cell can be run independently for testing and debugging\n",
        "- **Visual Feedback**: Added print statements to confirm successful setup\n",
        "\n",
        "### Customization Options:\n",
        "- **Change the goal**: Modify the `goal` variable to ask different questions\n",
        "- **Add more tools**: Include `FileSearchTool()` or `FunctionTool()` in the tools list\n",
        "- **Adjust instructions**: Modify the agent's instructions for different behavior\n",
        "- **Try different models**: Replace `\"gpt-4o-mini\"` with `\"gpt-4o\"` for more advanced capabilities\n",
        "\n",
        "### Prerequisites:\n",
        "- Ensure you have a `.env` file with your `OPENAI_API_KEY`\n",
        "- Install required packages: `pip install openai python-dotenv`\n",
        "- Make sure the `agents` module is available in your Python path\n"
      ]
    }
  ],
  "metadata": {
    "kernelspec": {
      "display_name": ".venv",
      "language": "python",
      "name": "python3"
    },
    "language_info": {
      "codemirror_mode": {
        "name": "ipython",
        "version": 3
      },
      "file_extension": ".py",
      "mimetype": "text/x-python",
      "name": "python",
      "nbconvert_exporter": "python",
      "pygments_lexer": "ipython3",
      "version": "3.11.8"
    }
  },
  "nbformat": 4,
  "nbformat_minor": 2
}
