{
  "cells": [
    {
      "cell_type": "markdown",
      "metadata": {
        "vscode": {
          "languageId": "raw"
        },
        "id": "KS-ev9cMFQhV"
      },
      "source": [
        "# OpenAI Agents SDK Single Agent - Jupyter Notebook Version\n",
        "\n",
        "This notebook demonstrates how to create and run a single OpenAI agent with web search capabilities. The agent can find AI news articles and get weather information.\n",
        "\n",
        "Author: James Gray  \n",
        "Updated: July 27, 2025"
      ]
    },
    {
      "cell_type": "markdown",
      "metadata": {
        "vscode": {
          "languageId": "raw"
        },
        "id": "gQT93r8mFQhW"
      },
      "source": [
        "## 1. Install Required Libraries\n",
        "\n",
        "**Run this cell first!** This will install all the Python packages we need."
      ]
    },
    {
      "cell_type": "code",
      "execution_count": null,
      "metadata": {
        "collapsed": true,
        "id": "rf0u2cl7FQhW"
      },
      "outputs": [],
      "source": [
        "%pip install openai python-dotenv openai-agents requests"
      ]
    },
    {
      "cell_type": "markdown",
      "metadata": {
        "vscode": {
          "languageId": "raw"
        },
        "id": "ZlUHRTQJFQhW"
      },
      "source": [
        "## 2. Import Libraries\n",
        "\n",
        "Now let's import all the libraries we need."
      ]
    },
    {
      "cell_type": "code",
      "execution_count": 2,
      "metadata": {
        "id": "qZHuGeiZFQhW"
      },
      "outputs": [],
      "source": [
        "import asyncio\n",
        "import os\n",
        "import requests\n",
        "from dotenv import load_dotenv\n",
        "from openai import OpenAI\n",
        "from agents import (\n",
        "    Agent, Runner,\n",
        "    WebSearchTool, FileSearchTool, FunctionTool, function_tool\n",
        ")"
      ]
    },
    {
      "cell_type": "markdown",
      "metadata": {
        "vscode": {
          "languageId": "raw"
        },
        "id": "YH6HiQs2FQhW"
      },
      "source": [
        "## 3. Setup Environment\n",
        "\n",
        "Load your OpenAI API key from a .env file."
      ]
    },
    {
      "cell_type": "code",
      "execution_count": 29,
      "metadata": {
        "colab": {
          "base_uri": "https://localhost:8080/"
        },
        "id": "WwH-pHTjFQhW",
        "outputId": "a5767f3c-bb5d-455d-b0bb-fc80031c3e30"
      },
      "outputs": [
        {
          "output_type": "stream",
          "name": "stdout",
          "text": [
            "API Key loaded: ✓\n"
          ]
        }
      ],
      "source": [
        "# Load environment variables from Colab secrets\n",
        "from google.colab import userdata\n",
        "OPENAI_API_KEY = userdata.get('OPENAI_API_KEY')\n",
        "\n",
        "print(f\"API Key loaded: {'✓' if OPENAI_API_KEY else '✗'}\")"
      ]
    },
    {
      "cell_type": "markdown",
      "metadata": {
        "vscode": {
          "languageId": "raw"
        },
        "id": "Prj7zuExFQhX"
      },
      "source": [
        "## 4. Create the Agent\n",
        "\n",
        "Create an AI agent with web search capabilities."
      ]
    },
    {
      "cell_type": "code",
      "execution_count": 30,
      "metadata": {
        "colab": {
          "base_uri": "https://localhost:8080/"
        },
        "id": "259V_io6FQhX",
        "outputId": "a6484107-78f8-41e5-ec0d-c2d929c76b6e"
      },
      "outputs": [
        {
          "output_type": "stream",
          "name": "stdout",
          "text": [
            "Agent created successfully!\n"
          ]
        }
      ],
      "source": [
        "client = OpenAI(api_key=OPENAI_API_KEY)\n",
        "\n",
        "myagent = Agent(\n",
        "    name=\"My Agent\",\n",
        "    model=\"gpt-4o-mini\",\n",
        "    instructions=(\n",
        "        \"You are an all-purpose assistant. Use your tools for web search, \"\n",
        "        \"Answer concisely. Always pick the most \"\n",
        "        \"relevant information from the web search results.\"\n",
        "    ),\n",
        "    tools=[\n",
        "        WebSearchTool(),\n",
        "    ]\n",
        ")\n",
        "\n",
        "print(\"Agent created successfully!\")"
      ]
    },
    {
      "cell_type": "markdown",
      "metadata": {
        "vscode": {
          "languageId": "raw"
        },
        "id": "oPgBLnOIFQhX"
      },
      "source": [
        "## 5. Run the Agent\n",
        "\n",
        "Now let's ask the agent to do something useful!"
      ]
    },
    {
      "cell_type": "code",
      "execution_count": 31,
      "metadata": {
        "colab": {
          "base_uri": "https://localhost:8080/"
        },
        "id": "CjBAr_4dFQhX",
        "outputId": "51e50760-7d50-437d-f93e-e184d8a742f0"
      },
      "outputs": [
        {
          "output_type": "stream",
          "name": "stdout",
          "text": [
            "Running agent with goal: Find 3 AI news articles about Microsoft, OpenAI, and Google and summarize each one, then get the weather in Austin, TX today\n",
            "==================================================\n"
          ]
        },
        {
          "output_type": "stream",
          "name": "stderr",
          "text": [
            "WARNING:openai.agents:OPENAI_API_KEY is not set, skipping trace export\n"
          ]
        },
        {
          "output_type": "stream",
          "name": "stdout",
          "text": [
            "Here are three recent AI news articles involving Microsoft, OpenAI, and Google:\n",
            "\n",
            "**1. Microsoft Expands AI Talent Pool by Hiring 24 Engineers from Google DeepMind**\n",
            "\n",
            "Microsoft has aggressively recruited 24 engineers from Google's DeepMind, including senior executives like Amar Subramanya and Adam Sadovsky. This strategic move aims to bolster Microsoft's Copilot product, which has faced challenges in matching the effectiveness of competitors like ChatGPT. The recruitment follows Microsoft's earlier decision to cut over 9,000 jobs, possibly reallocating resources toward AI development. ([windowscentral.com](https://www.windowscentral.com/artificial-intelligence/microsoft-copilot/microsoft-poaches-24-ai-stars-from-google-to-supercharge-copilot-despite-deepminds-ironclad-noncompete-clauses-and-lavish-year-long-pto?utm_source=openai))\n",
            "\n",
            "**2. OpenAI's CEO Announces Plans to Surpass 1 Million GPUs by Year's End**\n",
            "\n",
            "OpenAI CEO Sam Altman announced that the company plans to have over 1 million GPUs online by the end of 2025, significantly surpassing competitors like xAI, which uses 200,000 GPUs. This expansion underscores OpenAI's commitment to scaling toward Artificial General Intelligence (AGI). Altman also hinted at future goals of reaching 100 million GPUs, a vision that would require substantial investment. ([tomshardware.com](https://www.tomshardware.com/tech-industry/sam-altman-teases-100-million-gpu-scale-for-openai-that-could-cost-usd3-trillion-chatgpt-maker-to-cross-well-over-1-million-by-end-of-year?utm_source=openai))\n",
            "\n",
            "**3. Google's AI Integration Boosts Second Quarter Financial Performance**\n",
            "\n",
            "Google's integration of AI into its search engine has led to a solid financial performance in the second quarter of 2025. The company reported a net profit of $28.2 billion, up 19% year-over-year, and revenue of $96.4 billion, a 14% increase. AI-driven features like AI Overviews and the new AI Mode have enhanced user engagement, contributing to a 12% rise in search-driven ad revenue. However, Alphabet's increased capital expenditure to support AI infrastructure has raised concerns among investors. ([apnews.com](https://apnews.com/article/7afa082a178c36520dfc7a7621fe2397?utm_source=openai))\n",
            "\n",
            "**Weather in Austin, TX for July 28, 2025**\n",
            "\n",
            "## Weather for Austin, TX:\n",
            "Current Conditions: Cloudy, 78°F (26°C)\n",
            "\n",
            "Hourly Forecast:\n",
            "* 9:00 AM: 83°F (28°C), Intermittent clouds\n",
            "* 10:00 AM: 85°F (30°C), Intermittent clouds\n",
            "* 11:00 AM: 88°F (31°C), Partly sunny\n",
            "* 12:00 PM: 91°F (33°C), Mostly sunny\n",
            "* 1:00 PM: 93°F (34°C), Mostly sunny\n",
            "* 2:00 PM: 95°F (35°C), Mostly sunny\n",
            "* 3:00 PM: 96°F (35°C), Mostly sunny\n",
            "* 4:00 PM: 96°F (36°C), Mostly sunny\n",
            "* 5:00 PM: 97°F (36°C), Mostly sunny\n",
            "* 6:00 PM: 96°F (36°C), Mostly sunny\n",
            "* 7:00 PM: 95°F (35°C), Sunny\n",
            "* 8:00 PM: 93°F (34°C), Sunny\n",
            "* 9:00 PM: 90°F (32°C), Mostly clear\n",
            "* 10:00 PM: 88°F (31°C), Clear\n",
            "* 11:00 PM: 85°F (29°C), Clear\n",
            " \n"
          ]
        }
      ],
      "source": [
        "goal = (\n",
        "    \"Find 3 AI news articles about Microsoft, OpenAI, and Google and summarize each one, then get \"\n",
        "    \"the weather in Austin, TX today\"\n",
        ")\n",
        "\n",
        "print(f\"Running agent with goal: {goal}\")\n",
        "print(\"=\" * 50)\n",
        "\n",
        "result = await Runner.run(myagent, input=goal)\n",
        "print(result.final_output)"
      ]
    }
  ],
  "metadata": {
    "kernelspec": {
      "display_name": ".venv",
      "language": "python",
      "name": "python3"
    },
    "language_info": {
      "codemirror_mode": {
        "name": "ipython",
        "version": 3
      },
      "file_extension": ".py",
      "mimetype": "text/x-python",
      "name": "python",
      "nbconvert_exporter": "python",
      "pygments_lexer": "ipython3",
      "version": "3.11.8"
    },
    "colab": {
      "provenance": []
    }
  },
  "nbformat": 4,
  "nbformat_minor": 0
}